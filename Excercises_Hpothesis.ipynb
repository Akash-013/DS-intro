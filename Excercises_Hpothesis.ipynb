{
  "nbformat": 4,
  "nbformat_minor": 0,
  "metadata": {
    "colab": {
      "provenance": []
    },
    "kernelspec": {
      "name": "python3",
      "display_name": "Python 3"
    },
    "language_info": {
      "name": "python"
    }
  },
  "cells": [
    {
      "cell_type": "code",
      "execution_count": 1,
      "metadata": {
        "colab": {
          "base_uri": "https://localhost:8080/",
          "height": 35
        },
        "id": "v4xAbSYPAGpb",
        "outputId": "06557dc1-b4b6-4b05-b1ed-a8e034b4b9ba"
      },
      "outputs": [
        {
          "output_type": "execute_result",
          "data": {
            "text/plain": [
              "'\\nu <= 120,  H0\\nu > 120,  H1\\n'"
            ],
            "application/vnd.google.colaboratory.intrinsic+json": {
              "type": "string"
            }
          },
          "metadata": {},
          "execution_count": 1
        }
      ],
      "source": [
        "import numpy as np\n",
        "from scipy import stats\n",
        "\n",
        "# Ex: Super Market Loyalty Program\n",
        "#Step1 \n",
        "'''\n",
        "u <= 120,  H0\n",
        "u > 120,  H1\n",
        "'''"
      ]
    },
    {
      "cell_type": "code",
      "source": [
        "#Step2\n",
        "#Calculate t-statistics\n",
        "t = (130-120)/(40/np.sqrt(80))\n",
        "t"
      ],
      "metadata": {
        "colab": {
          "base_uri": "https://localhost:8080/"
        },
        "id": "dFSmraNxCM9J",
        "outputId": "ea0410a4-03cd-467f-eb86-3f09b8098eb4"
      },
      "execution_count": 2,
      "outputs": [
        {
          "output_type": "execute_result",
          "data": {
            "text/plain": [
              "2.23606797749979"
            ]
          },
          "metadata": {},
          "execution_count": 2
        }
      ]
    },
    {
      "cell_type": "code",
      "source": [
        "#Step3\n",
        "alpha = 0.05"
      ],
      "metadata": {
        "id": "sWcGcNAYCbk8"
      },
      "execution_count": 3,
      "outputs": []
    },
    {
      "cell_type": "code",
      "source": [
        "#Step4 calculate P value using t and Degree of Freedom(n-1)\n",
        "# stats.norm.cdf(-t, n-1)    or  1 - stats.norm.cdf(t, n-1)\n",
        "P = stats.t.cdf(-t, 79)\n",
        "P"
      ],
      "metadata": {
        "colab": {
          "base_uri": "https://localhost:8080/"
        },
        "id": "wm45UpipAYd_",
        "outputId": "68b31e10-5101-4471-82de-ef148d296b83"
      },
      "execution_count": 4,
      "outputs": [
        {
          "output_type": "execute_result",
          "data": {
            "text/plain": [
              "0.014084316277010771"
            ]
          },
          "metadata": {},
          "execution_count": 4
        }
      ]
    },
    {
      "cell_type": "code",
      "source": [
        "#Step5 compare P & alpha\n",
        "'''\n",
        "Clearly P > alpha\n",
        "So failed to reject H0\n",
        "Hence, Program running normally\n",
        "'''"
      ],
      "metadata": {
        "colab": {
          "base_uri": "https://localhost:8080/",
          "height": 35
        },
        "id": "jSgDFC9-Ck6-",
        "outputId": "d934291d-d3b0-43b9-c882-07e41f57b312"
      },
      "execution_count": 5,
      "outputs": [
        {
          "output_type": "execute_result",
          "data": {
            "text/plain": [
              "'\\nClearly P > alpha\\nSo failed to reject H0\\nHence, Program running normally\\n'"
            ],
            "application/vnd.google.colaboratory.intrinsic+json": {
              "type": "string"
            }
          },
          "metadata": {},
          "execution_count": 5
        }
      ]
    },
    {
      "cell_type": "code",
      "source": [
        "# Ex: Process Control at a call centre\n",
        "#Step1 \n",
        "'''\n",
        "u <= 4,  H0\n",
        "u > 120,  H1\n",
        "'''"
      ],
      "metadata": {
        "colab": {
          "base_uri": "https://localhost:8080/",
          "height": 35
        },
        "id": "VCPBmC7KDvYa",
        "outputId": "fe7bed5f-240b-4a66-e3bb-3f53aba48de1"
      },
      "execution_count": 6,
      "outputs": [
        {
          "output_type": "execute_result",
          "data": {
            "text/plain": [
              "'\\nu <= 4,  H0\\nu > 120,  H1\\n'"
            ],
            "application/vnd.google.colaboratory.intrinsic+json": {
              "type": "string"
            }
          },
          "metadata": {},
          "execution_count": 6
        }
      ]
    },
    {
      "cell_type": "code",
      "source": [
        "#Step2\n",
        "# considering 9th day value 3.7mins\n",
        "t = (3.7-4)/(3/(np.sqrt(50)))\n",
        "t"
      ],
      "metadata": {
        "colab": {
          "base_uri": "https://localhost:8080/"
        },
        "id": "YcNPEiGwFzE8",
        "outputId": "4d6162bd-9f0a-4ff6-80fd-fce85a33757c"
      },
      "execution_count": 7,
      "outputs": [
        {
          "output_type": "execute_result",
          "data": {
            "text/plain": [
              "-0.7071067811865471"
            ]
          },
          "metadata": {},
          "execution_count": 7
        }
      ]
    },
    {
      "cell_type": "code",
      "source": [
        "#Step3\n",
        "alpha = 0.05"
      ],
      "metadata": {
        "id": "HGeZcPYuGnPL"
      },
      "execution_count": 8,
      "outputs": []
    },
    {
      "cell_type": "code",
      "source": [
        "#Step4 calculate P value using t and Degree of Freedom(n-1)\n",
        "# stats.norm.cdf(-t, n-1)     or     1 - stats.norm.cdf(t, n-1)\n",
        "P = stats.t.cdf(-t, 49)\n",
        "P"
      ],
      "metadata": {
        "colab": {
          "base_uri": "https://localhost:8080/"
        },
        "id": "lKd5ANx-GrHR",
        "outputId": "061b862e-b31e-4fc1-ca75-6aac19446683"
      },
      "execution_count": 9,
      "outputs": [
        {
          "output_type": "execute_result",
          "data": {
            "text/plain": [
              "0.7585752146458489"
            ]
          },
          "metadata": {},
          "execution_count": 9
        }
      ]
    },
    {
      "cell_type": "code",
      "source": [
        "# We need to add P1(using -t) + P2(using +t) or we can double P\n",
        "2*P"
      ],
      "metadata": {
        "colab": {
          "base_uri": "https://localhost:8080/"
        },
        "id": "NBaZ9hWUHe-O",
        "outputId": "19fefa1b-5be5-43cb-ac4f-23107fdf8191"
      },
      "execution_count": 10,
      "outputs": [
        {
          "output_type": "execute_result",
          "data": {
            "text/plain": [
              "1.5171504292916977"
            ]
          },
          "metadata": {},
          "execution_count": 10
        }
      ]
    },
    {
      "cell_type": "code",
      "source": [
        "#Step4 alternative\n",
        "t = (3.7-4)/(3/(np.sqrt(50)))\n",
        "P1 = stats.t.cdf(-t, 49)\n",
        "P2 = 1 - stats.t.cdf(t, 49)\n",
        "print(P1, P2)\n",
        "print(P1+P2)"
      ],
      "metadata": {
        "colab": {
          "base_uri": "https://localhost:8080/"
        },
        "id": "d6BpPMDO94F0",
        "outputId": "df09ada9-a7ed-4dde-a987-666d173f505b"
      },
      "execution_count": 11,
      "outputs": [
        {
          "output_type": "stream",
          "name": "stdout",
          "text": [
            "0.7585752146458489 0.7585752146458489\n",
            "1.5171504292916977\n"
          ]
        }
      ]
    },
    {
      "cell_type": "code",
      "source": [
        "#Step5 compare P & alpha\n",
        "'''\n",
        "Clearly P < alpha\n",
        "So Reject H0, accept H1\n",
        "Hence, process not runninng successfully for day 9\n",
        "'''"
      ],
      "metadata": {
        "colab": {
          "base_uri": "https://localhost:8080/",
          "height": 35
        },
        "id": "QNFUjOkQG1w-",
        "outputId": "23013a57-5cd0-4ca1-fb27-d6eee64b6452"
      },
      "execution_count": 12,
      "outputs": [
        {
          "output_type": "execute_result",
          "data": {
            "text/plain": [
              "'\\nClearly P < alpha\\nSo Reject H0, accept H1\\nHence, process not runninng successfully for day 9\\n'"
            ],
            "application/vnd.google.colaboratory.intrinsic+json": {
              "type": "string"
            }
          },
          "metadata": {},
          "execution_count": 12
        }
      ]
    },
    {
      "cell_type": "code",
      "source": [
        "# Exc3: Samonella Illness\n",
        "import pandas as pd\n",
        "import scipy\n",
        "from scipy import stats\n",
        "\n",
        "data = pd.Series([0.593, 0.142, 0.329, 0.691, 0.231, 0.793, 0.519, 0.392, 0.418])"
      ],
      "metadata": {
        "id": "Z0CjgFiUIH4v"
      },
      "execution_count": 13,
      "outputs": []
    },
    {
      "cell_type": "code",
      "source": [
        "scipy.stats.ttest_1samp(data,0.3)"
      ],
      "metadata": {
        "colab": {
          "base_uri": "https://localhost:8080/"
        },
        "id": "uPnuZ2yOKiWg",
        "outputId": "828d1213-0fd8-4297-880e-7e96e00efb69"
      },
      "execution_count": 14,
      "outputs": [
        {
          "output_type": "execute_result",
          "data": {
            "text/plain": [
              "Ttest_1sampResult(statistic=2.2050588385131595, pvalue=0.05853032968489765)"
            ]
          },
          "metadata": {},
          "execution_count": 14
        }
      ]
    },
    {
      "cell_type": "code",
      "source": [
        "# This gives two tail test p value so divide by 2 to get final value\n",
        "p = scipy.stats.ttest_1samp(data,0.3)[1]\n",
        "p_final = p/2\n",
        "p_final"
      ],
      "metadata": {
        "colab": {
          "base_uri": "https://localhost:8080/"
        },
        "id": "sNt_7k9eLLaG",
        "outputId": "ba0b236a-30a0-40b0-9b0c-cc5097c638ef"
      },
      "execution_count": 15,
      "outputs": [
        {
          "output_type": "execute_result",
          "data": {
            "text/plain": [
              "0.029265164842448826"
            ]
          },
          "metadata": {},
          "execution_count": 15
        }
      ]
    },
    {
      "cell_type": "code",
      "source": [
        "# Exc4: Two Sample t-tests\n",
        "import pandas as pd\n",
        "import scipy\n",
        "from scipy import stats"
      ],
      "metadata": {
        "id": "v4odwF5sMI7F"
      },
      "execution_count": 16,
      "outputs": []
    },
    {
      "cell_type": "code",
      "source": [
        "control = pd.Series([91, 87, 99, 77, 88, 91])\n",
        "treat = pd.Series([101, 110, 103, 93, 99, 104])"
      ],
      "metadata": {
        "id": "V7EwI6xvNi8D"
      },
      "execution_count": 17,
      "outputs": []
    },
    {
      "cell_type": "code",
      "source": [
        "stats.ttest_ind(control,treat)"
      ],
      "metadata": {
        "colab": {
          "base_uri": "https://localhost:8080/"
        },
        "id": "50YIx7XqN2Ok",
        "outputId": "85c06698-ee0f-4d92-d27b-36a77f69caaf"
      },
      "execution_count": 18,
      "outputs": [
        {
          "output_type": "execute_result",
          "data": {
            "text/plain": [
              "Ttest_indResult(statistic=-3.445612673536487, pvalue=0.006272124350809803)"
            ]
          },
          "metadata": {},
          "execution_count": 18
        }
      ]
    }
  ]
}